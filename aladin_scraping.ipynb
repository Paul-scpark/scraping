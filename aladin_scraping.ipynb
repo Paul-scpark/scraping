{
 "cells": [
  {
   "cell_type": "code",
   "execution_count": 1,
   "id": "e11f0732",
   "metadata": {},
   "outputs": [],
   "source": [
    "from selenium import webdriver # 파이썬 코드에 의해 조작되는 가상 웹 브라우져를 이용\n",
    "from tqdm import tqdm\n",
    "from bs4 import BeautifulSoup\n",
    "import math, csv"
   ]
  },
  {
   "cell_type": "markdown",
   "id": "315729c1",
   "metadata": {},
   "source": [
    "## 알라딘 - 책 데이터 scraping"
   ]
  },
  {
   "cell_type": "code",
   "execution_count": 3,
   "id": "5f53671f",
   "metadata": {},
   "outputs": [
    {
     "name": "stderr",
     "output_type": "stream",
     "text": [
      "/var/folders/ps/2_ft5c6j1b37zbcp79nn83000000gn/T/ipykernel_78581/453465641.py:5: DeprecationWarning: find_element_by_* commands are deprecated. Please use find_element() instead\n",
      "  idBox = driver.find_element_by_xpath('''//*[@id=\"Email\"]''')\n",
      "/var/folders/ps/2_ft5c6j1b37zbcp79nn83000000gn/T/ipykernel_78581/453465641.py:7: DeprecationWarning: find_element_by_* commands are deprecated. Please use find_element() instead\n",
      "  idBox = driver.find_element_by_xpath('''//*[@id=\"Password\"]''')\n",
      "/var/folders/ps/2_ft5c6j1b37zbcp79nn83000000gn/T/ipykernel_78581/453465641.py:9: DeprecationWarning: find_element_by_* commands are deprecated. Please use find_element() instead\n",
      "  driver.find_element_by_xpath('''//*[@id=\"LoginForm\"]/div[2]/a/div''').click()\n"
     ]
    },
    {
     "data": {
      "text/plain": [
       "1000"
      ]
     },
     "execution_count": 3,
     "metadata": {},
     "output_type": "execute_result"
    }
   ],
   "source": [
    "driver = webdriver.Chrome()\n",
    "URL = 'https://www.aladin.co.kr/login/wlogin_popup.aspx?SecureOpener=1'\n",
    "driver.get(URL)\n",
    "\n",
    "idBox = driver.find_element_by_xpath('''//*[@id=\"Email\"]''')\n",
    "idBox.send_keys('___') # 알라딘 아이디 입력하기\n",
    "idBox = driver.find_element_by_xpath('''//*[@id=\"Password\"]''')\n",
    "idBox.send_keys('___') # 알라딘 비밀번호 입력하기\n",
    "driver.find_element_by_xpath('''//*[@id=\"LoginForm\"]/div[2]/a/div''').click()\n",
    "\n",
    "book_href = []\n",
    "for page_num in range(1, 30):\n",
    "    URL = f'https://www.aladin.co.kr/shop/common/wbest.aspx?BestType=Bestseller&BranchType=1&CID=0&page={page_num}&cnt=1000&SortOrder=1'\n",
    "    driver.get(URL)\n",
    "    html = driver.page_source\n",
    "    soup = BeautifulSoup(html, 'html.parser')\n",
    "\n",
    "    book_lists = soup.select('#Myform > .ss_book_box > table > tbody > tr > td:nth-child(3) > table > tbody > tr > td > .ss_book_list > ul > li > .bo3')\n",
    "\n",
    "    for book in book_lists:\n",
    "        book_href.append(book['href'])\n",
    "\n",
    "len(book_href)"
   ]
  },
  {
   "cell_type": "code",
   "execution_count": 4,
   "id": "12fe5600",
   "metadata": {},
   "outputs": [
    {
     "name": "stderr",
     "output_type": "stream",
     "text": [
      "100%|███████████████████████████████████████| 1000/1000 [29:51<00:00,  1.79s/it]\n"
     ]
    }
   ],
   "source": [
    "count = 1\n",
    "for href in tqdm(book_href):\n",
    "    driver.get(href)\n",
    "    html = driver.page_source\n",
    "    soup = BeautifulSoup(html, 'html.parser')\n",
    "    \n",
    "    title, rating, description = '', '', ''\n",
    "\n",
    "    try:\n",
    "        title = soup.select_one('#Ere_prod_allwrap > div.Ere_prod_topwrap > div.Ere_prod_titlewrap > div.left > div > ul > li:nth-child(2) > div > .Ere_bo_title').text\n",
    "        rating = soup.select_one('#wa_product_top1_wa_Top_Ranking_pnlRanking > div.info_list.Ere_fs15.Ere_ht18 > a.Ere_sub_pink.Ere_fs16.Ere_str').text\n",
    "        description = soup.select_one('#Ere_prod_allwrap > div.Ere_prod_middlewrap > div:nth-child(4) > div.Ere_prod_mconts_R').text\n",
    "\n",
    "    except:\n",
    "        pass\n",
    "    \n",
    "    book_dic = {\n",
    "            'title': '', \n",
    "            'description': '', \n",
    "            'rating': ''\n",
    "        }\n",
    "    \n",
    "    if (title != '') and (rating != '') and (description != ''):\n",
    "        book_dic['title'] = title\n",
    "        book_dic['description'] = description\n",
    "        book_dic['rating'] = rating\n",
    "\n",
    "        with open('/Users/paul/Desktop/book_scraping.csv', 'a', newline = '') as csvfile:\n",
    "            count += 1\n",
    "            fieldnames = ['title', 'description', 'rating']\n",
    "            csv_writer = csv.DictWriter(csvfile, fieldnames=fieldnames)\n",
    "            csv_writer.writerow(book_dic)"
   ]
  }
 ],
 "metadata": {
  "kernelspec": {
   "display_name": "Python 3 (ipykernel)",
   "language": "python",
   "name": "python3"
  },
  "language_info": {
   "codemirror_mode": {
    "name": "ipython",
    "version": 3
   },
   "file_extension": ".py",
   "mimetype": "text/x-python",
   "name": "python",
   "nbconvert_exporter": "python",
   "pygments_lexer": "ipython3",
   "version": "3.9.7"
  }
 },
 "nbformat": 4,
 "nbformat_minor": 5
}

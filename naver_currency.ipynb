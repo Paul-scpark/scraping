{
 "cells": [
  {
   "cell_type": "markdown",
   "id": "009d2370",
   "metadata": {},
   "source": [
    "## 네이버 금융에서 Daily 환율 정보 가져오기"
   ]
  },
  {
   "cell_type": "code",
   "execution_count": 1,
   "id": "9728d202",
   "metadata": {},
   "outputs": [],
   "source": [
    "import pandas as pd\n",
    "import requests, csv\n",
    "from bs4 import BeautifulSoup, NavigableString, Tag\n",
    "from tqdm import tqdm"
   ]
  },
  {
   "cell_type": "code",
   "execution_count": 2,
   "id": "d52817f7",
   "metadata": {},
   "outputs": [],
   "source": [
    "URL = 'https://finance.naver.com/marketindex/exchangeDailyQuote.naver?marketindexCd=FX_USDKRW&page=1'\n",
    "\n",
    "response = requests.get(URL)\n",
    "soups = BeautifulSoup(response.text, 'html.parser')"
   ]
  },
  {
   "cell_type": "code",
   "execution_count": 3,
   "id": "2bb85f59",
   "metadata": {},
   "outputs": [
    {
     "name": "stderr",
     "output_type": "stream",
     "text": [
      "100%|███████████████████████████████████████████| 94/94 [00:09<00:00,  9.73it/s]\n"
     ]
    }
   ],
   "source": [
    "currency_df = pd.DataFrame()\n",
    "for i in tqdm(range(1, 95)):\n",
    "    URL = f'https://finance.naver.com/marketindex/exchangeDailyQuote.naver?marketindexCd=FX_USDKRW&page={i}'\n",
    "    response = requests.get(URL)\n",
    "    soups = BeautifulSoup(response.text, 'html.parser')\n",
    "    \n",
    "    for currency_part in soups.select('body > div > table > tbody > tr'):\n",
    "        date = pd.to_datetime(currency_part.select_one('.date').text)\n",
    "        currency = float(currency_part.select_one('.num').text.replace(',', ''))\n",
    "\n",
    "        df = pd.DataFrame({'Date':[date], 'Currency':[currency]})\n",
    "        currency_df = pd.concat([currency_df, df], axis = 0)"
   ]
  },
  {
   "cell_type": "code",
   "execution_count": 4,
   "id": "2834cb38",
   "metadata": {},
   "outputs": [
    {
     "name": "stdout",
     "output_type": "stream",
     "text": [
      "(940, 2)\n"
     ]
    },
    {
     "data": {
      "text/html": [
       "<div>\n",
       "<style scoped>\n",
       "    .dataframe tbody tr th:only-of-type {\n",
       "        vertical-align: middle;\n",
       "    }\n",
       "\n",
       "    .dataframe tbody tr th {\n",
       "        vertical-align: top;\n",
       "    }\n",
       "\n",
       "    .dataframe thead th {\n",
       "        text-align: right;\n",
       "    }\n",
       "</style>\n",
       "<table border=\"1\" class=\"dataframe\">\n",
       "  <thead>\n",
       "    <tr style=\"text-align: right;\">\n",
       "      <th></th>\n",
       "      <th>Date</th>\n",
       "      <th>Currency</th>\n",
       "    </tr>\n",
       "  </thead>\n",
       "  <tbody>\n",
       "    <tr>\n",
       "      <th>0</th>\n",
       "      <td>2018-05-29</td>\n",
       "      <td>1080.0</td>\n",
       "    </tr>\n",
       "    <tr>\n",
       "      <th>1</th>\n",
       "      <td>2018-05-30</td>\n",
       "      <td>1080.0</td>\n",
       "    </tr>\n",
       "    <tr>\n",
       "      <th>2</th>\n",
       "      <td>2018-05-31</td>\n",
       "      <td>1078.0</td>\n",
       "    </tr>\n",
       "    <tr>\n",
       "      <th>3</th>\n",
       "      <td>2018-06-01</td>\n",
       "      <td>1075.5</td>\n",
       "    </tr>\n",
       "    <tr>\n",
       "      <th>4</th>\n",
       "      <td>2018-06-04</td>\n",
       "      <td>1070.0</td>\n",
       "    </tr>\n",
       "  </tbody>\n",
       "</table>\n",
       "</div>"
      ],
      "text/plain": [
       "        Date  Currency\n",
       "0 2018-05-29    1080.0\n",
       "1 2018-05-30    1080.0\n",
       "2 2018-05-31    1078.0\n",
       "3 2018-06-01    1075.5\n",
       "4 2018-06-04    1070.0"
      ]
     },
     "execution_count": 4,
     "metadata": {},
     "output_type": "execute_result"
    }
   ],
   "source": [
    "currency_df = currency_df.sort_values('Date').reset_index(drop = True)\n",
    "print(currency_df.shape)\n",
    "currency_df.head()"
   ]
  },
  {
   "cell_type": "code",
   "execution_count": 5,
   "id": "95615473",
   "metadata": {},
   "outputs": [],
   "source": [
    "currency_df.to_excel('/Users/paul/Desktop/currency_data.xlsx')"
   ]
  }
 ],
 "metadata": {
  "kernelspec": {
   "display_name": "Python 3 (ipykernel)",
   "language": "python",
   "name": "python3"
  },
  "language_info": {
   "codemirror_mode": {
    "name": "ipython",
    "version": 3
   },
   "file_extension": ".py",
   "mimetype": "text/x-python",
   "name": "python",
   "nbconvert_exporter": "python",
   "pygments_lexer": "ipython3",
   "version": "3.9.7"
  }
 },
 "nbformat": 4,
 "nbformat_minor": 5
}

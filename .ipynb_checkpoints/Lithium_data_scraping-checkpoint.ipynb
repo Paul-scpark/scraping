{
 "cells": [
  {
   "cell_type": "code",
   "execution_count": 39,
   "id": "f43f0dd9",
   "metadata": {},
   "outputs": [],
   "source": [
    "import pandas as pd\n",
    "import numpy as np\n",
    "import yfinance as yf\n",
    "from tqdm import tqdm\n",
    "import matplotlib.pyplot as plt\n",
    "\n",
    "import requests, csv, re\n",
    "from bs4 import BeautifulSoup, NavigableString, Tag"
   ]
  },
  {
   "cell_type": "code",
   "execution_count": 2,
   "id": "5c09e863",
   "metadata": {},
   "outputs": [
    {
     "name": "stdout",
     "output_type": "stream",
     "text": [
      "<class 'bs4.BeautifulSoup'>\n"
     ]
    }
   ],
   "source": [
    "# Lithium\n",
    "\n",
    "headers = {\n",
    "    'authority': 'markets.tradingeconomics.com',\n",
    "    'sec-ch-ua': '',\n",
    "    'accept': '',\n",
    "    'sec-ch-ua-mobile': '',\n",
    "    'user-agent': '',\n",
    "    'sec-ch-ua-platform': '',\n",
    "    'origin': 'https://tradingeconomics.com',\n",
    "    'sec-fetch-site': '',\n",
    "    'sec-fetch-mode': '',\n",
    "    'sec-fetch-dest': '',\n",
    "    'referer': 'https://tradingeconomics.com/',\n",
    "    'accept-language': '',\n",
    "}\n",
    "\n",
    "params = (\n",
    "    ('s', ''),\n",
    "    ('span', ''),\n",
    "    ('securify', 'new'),\n",
    "    ('url', 'commoditylithium'),\n",
    "    ('AUTH', ''),\n",
    ")\n",
    "\n",
    "response = requests.get('https://markets.tradingeconomics.com/chart', headers=headers, params=params)\n",
    "soup = BeautifulSoup(response.text, 'html.parser')\n",
    "print(type(soup))"
   ]
  },
  {
   "cell_type": "code",
   "execution_count": 28,
   "id": "e39f659a",
   "metadata": {},
   "outputs": [
    {
     "name": "stderr",
     "output_type": "stream",
     "text": [
      "100%|███████████████████████████████████| 1120/1120 [00:00<00:00, 512337.28it/s]\n"
     ]
    }
   ],
   "source": [
    "text = str(soup)[174:]\n",
    "times = text.split('close\":')[1:]\n",
    "\n",
    "Lithium_lst = []\n",
    "Lithium_date = []\n",
    "for time in tqdm(times):\n",
    "    target = time.split(',\"x\"')[0]\n",
    "    Lithium_lst.append(target.split(',\"date\"')[0])\n",
    "    Lithium_date.append(target.split('\"date\":\"')[1][:10])"
   ]
  },
  {
   "cell_type": "code",
   "execution_count": 37,
   "id": "a338c5b3",
   "metadata": {},
   "outputs": [
    {
     "data": {
      "text/html": [
       "<div>\n",
       "<style scoped>\n",
       "    .dataframe tbody tr th:only-of-type {\n",
       "        vertical-align: middle;\n",
       "    }\n",
       "\n",
       "    .dataframe tbody tr th {\n",
       "        vertical-align: top;\n",
       "    }\n",
       "\n",
       "    .dataframe thead th {\n",
       "        text-align: right;\n",
       "    }\n",
       "</style>\n",
       "<table border=\"1\" class=\"dataframe\">\n",
       "  <thead>\n",
       "    <tr style=\"text-align: right;\">\n",
       "      <th></th>\n",
       "      <th>Date</th>\n",
       "      <th>Lithium</th>\n",
       "    </tr>\n",
       "  </thead>\n",
       "  <tbody>\n",
       "    <tr>\n",
       "      <th>0</th>\n",
       "      <td>2017-05-10</td>\n",
       "      <td>136000.00000</td>\n",
       "    </tr>\n",
       "    <tr>\n",
       "      <th>1</th>\n",
       "      <td>2017-05-11</td>\n",
       "      <td>136000.00000</td>\n",
       "    </tr>\n",
       "    <tr>\n",
       "      <th>2</th>\n",
       "      <td>2017-05-12</td>\n",
       "      <td>136000.00000</td>\n",
       "    </tr>\n",
       "    <tr>\n",
       "      <th>3</th>\n",
       "      <td>2017-05-15</td>\n",
       "      <td>136000.00000</td>\n",
       "    </tr>\n",
       "    <tr>\n",
       "      <th>4</th>\n",
       "      <td>2017-05-16</td>\n",
       "      <td>136000.00000</td>\n",
       "    </tr>\n",
       "    <tr>\n",
       "      <th>...</th>\n",
       "      <td>...</td>\n",
       "      <td>...</td>\n",
       "    </tr>\n",
       "    <tr>\n",
       "      <th>1115</th>\n",
       "      <td>2021-11-10</td>\n",
       "      <td>195500.00000</td>\n",
       "    </tr>\n",
       "    <tr>\n",
       "      <th>1116</th>\n",
       "      <td>2021-11-11</td>\n",
       "      <td>195500.00000</td>\n",
       "    </tr>\n",
       "    <tr>\n",
       "      <th>1117</th>\n",
       "      <td>2021-11-12</td>\n",
       "      <td>195500.00000</td>\n",
       "    </tr>\n",
       "    <tr>\n",
       "      <th>1118</th>\n",
       "      <td>2021-11-15</td>\n",
       "      <td>195500.00000</td>\n",
       "    </tr>\n",
       "    <tr>\n",
       "      <th>1119</th>\n",
       "      <td>2021-11-16</td>\n",
       "      <td>195500.00000</td>\n",
       "    </tr>\n",
       "  </tbody>\n",
       "</table>\n",
       "<p>1120 rows × 2 columns</p>\n",
       "</div>"
      ],
      "text/plain": [
       "            Date       Lithium\n",
       "0     2017-05-10  136000.00000\n",
       "1     2017-05-11  136000.00000\n",
       "2     2017-05-12  136000.00000\n",
       "3     2017-05-15  136000.00000\n",
       "4     2017-05-16  136000.00000\n",
       "...          ...           ...\n",
       "1115  2021-11-10  195500.00000\n",
       "1116  2021-11-11  195500.00000\n",
       "1117  2021-11-12  195500.00000\n",
       "1118  2021-11-15  195500.00000\n",
       "1119  2021-11-16  195500.00000\n",
       "\n",
       "[1120 rows x 2 columns]"
      ]
     },
     "execution_count": 37,
     "metadata": {},
     "output_type": "execute_result"
    }
   ],
   "source": [
    "Lithium = pd.DataFrame([Lithium_date, Lithium_lst]).T\n",
    "Lithium.columns = ['Date', 'Lithium']\n",
    "Lithium"
   ]
  },
  {
   "cell_type": "code",
   "execution_count": 45,
   "id": "8e41e121",
   "metadata": {},
   "outputs": [],
   "source": [
    "Lithium['Lithium'] = Lithium['Lithium'].astype('str').astype('float64')\n",
    "Lithium['Date'] = Lithium['Date'].astype('str').astype('datetime64')"
   ]
  },
  {
   "cell_type": "code",
   "execution_count": 49,
   "id": "bf48e5ee",
   "metadata": {},
   "outputs": [
    {
     "data": {
      "image/png": "[encoded data removed]",
      "text/plain": [
       "<Figure size 432x288 with 1 Axes>"
      ]
     },
     "metadata": {
      "needs_background": "light"
     },
     "output_type": "display_data"
    }
   ],
   "source": [
    "plt.plot(Lithium['Date'], Lithium['Lithium'])\n",
    "plt.xticks(rotation=45)\n",
    "plt.show()"
   ]
  },
  {
   "cell_type": "code",
   "execution_count": 38,
   "id": "68e024c1",
   "metadata": {},
   "outputs": [],
   "source": [
    "Lithium.to_csv('/Users/paul/Desktop/Lithium.csv')"
   ]
  }
 ],
 "metadata": {
  "kernelspec": {
   "display_name": "Python 3 (ipykernel)",
   "language": "python",
   "name": "python3"
  },
  "language_info": {
   "codemirror_mode": {
    "name": "ipython",
    "version": 3
   },
   "file_extension": ".py",
   "mimetype": "text/x-python",
   "name": "python",
   "nbconvert_exporter": "python",
   "pygments_lexer": "ipython3",
   "version": "3.9.7"
  }
 },
 "nbformat": 4,
 "nbformat_minor": 5
}

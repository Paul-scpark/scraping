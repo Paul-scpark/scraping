{
 "cells": [
  {
   "cell_type": "markdown",
   "metadata": {},
   "source": [
    "## stock_name, stock_code, sector 데이터 만들기 - 네이버 금융 크롤링"
   ]
  },
  {
   "cell_type": "code",
   "execution_count": 1,
   "metadata": {},
   "outputs": [],
   "source": [
    "import requests\n",
    "from bs4 import BeautifulSoup, NavigableString, Tag\n",
    "import csv"
   ]
  },
  {
   "cell_type": "code",
   "execution_count": 2,
   "metadata": {},
   "outputs": [],
   "source": [
    "URL = 'https://finance.naver.com/sise/sise_group.nhn?type=upjong'\n",
    "\n",
    "response = requests.get(URL)\n",
    "soups = BeautifulSoup(response.text, 'html.parser')"
   ]
  },
  {
   "cell_type": "code",
   "execution_count": 3,
   "metadata": {},
   "outputs": [],
   "source": [
    "link_lists = []\n",
    "for soup in soups:\n",
    "    sector_links = soups.select('#contentarea_left > .type_1 > tr > td > a')\n",
    "\n",
    "for sector_link in sector_links:\n",
    "    link_lists.append(sector_link['href'])"
   ]
  },
  {
   "cell_type": "markdown",
   "metadata": {},
   "source": [
    "#### 총 3189개 종목들에 대한 이름, 코드, sector를 추출"
   ]
  },
  {
   "cell_type": "code",
   "execution_count": 4,
   "metadata": {},
   "outputs": [
    {
     "name": "stdout",
     "output_type": "stream",
     "text": [
      "3189\n"
     ]
    }
   ],
   "source": [
    "count = 0\n",
    "\n",
    "for link_list in link_lists:\n",
    "    sector_link = 'https://finance.naver.com/' + link_list\n",
    "    response = requests.get(sector_link)\n",
    "    soups = BeautifulSoup(response.text, 'html.parser')\n",
    "    \n",
    "    sector_group = soups.select('#contentarea_left > .type_1 > tr > td')[1].text.replace('\\n', '')\n",
    "    sectors_list = soups.select('.box_type_l > .type_5 > tbody > tr > td > .name_area > a')\n",
    "    \n",
    "    sector_dic = {\n",
    "            'sector_group': '', \n",
    "            'sector_name': '', \n",
    "            'sector_code': ''\n",
    "        }\n",
    "    \n",
    "    for sector in sectors_list:    \n",
    "        sector_link = 'https://finance.naver.com' + sector['href']\n",
    "        sector_name = sector.text\n",
    "        sector_code = sector_link.split('code=')[1]\n",
    "        \n",
    "        sector_dic['sector_group'] = sector_group\n",
    "        sector_dic['sector_code'] = '!' + sector_code\n",
    "        sector_dic['sector_name'] = sector_name\n",
    "        \n",
    "        with open('stock_sector.csv', 'a', newline = '') as csvfile:\n",
    "            fieldnames = ['sector_group', 'sector_code', 'sector_name']\n",
    "            csv_writer = csv.DictWriter(csvfile, fieldnames=fieldnames)\n",
    "            csv_writer.writerow(sector_dic)\n",
    "\n",
    "            count += 1\n",
    "print(count)"
   ]
  }
 ],
 "metadata": {
  "kernelspec": {
   "display_name": "Python 3 (ipykernel)",
   "language": "python",
   "name": "python3"
  },
  "language_info": {
   "codemirror_mode": {
    "name": "ipython",
    "version": 3
   },
   "file_extension": ".py",
   "mimetype": "text/x-python",
   "name": "python",
   "nbconvert_exporter": "python",
   "pygments_lexer": "ipython3",
   "version": "3.9.7"
  }
 },
 "nbformat": 4,
 "nbformat_minor": 4
}

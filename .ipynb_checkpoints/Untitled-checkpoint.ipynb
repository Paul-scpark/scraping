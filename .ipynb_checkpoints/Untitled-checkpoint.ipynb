{
 "cells": [
  {
   "cell_type": "code",
   "execution_count": 1,
   "id": "81a61e4b",
   "metadata": {},
   "outputs": [],
   "source": [
    "import pandas as pd\n",
    "import matplotlib.pyplot as plt\n",
    "import requests, time, csv, argparse, os, warnings, re\n",
    "\n",
    "from datetime import datetime\n",
    "from bs4 import BeautifulSoup, NavigableString, Tag\n",
    "from selenium import webdriver\n",
    "from selenium.webdriver.common.by import By\n",
    "from selenium.webdriver.chrome.service import Service\n",
    "from webdriver_manager.chrome import ChromeDriverManager\n",
    "\n",
    "from tqdm import tqdm"
   ]
  },
  {
   "cell_type": "markdown",
   "id": "bf568ecd",
   "metadata": {},
   "source": [
    "## 1. Collins dictionary (Characters in the Bible)"
   ]
  },
  {
   "cell_type": "code",
   "execution_count": 2,
   "id": "cab28886",
   "metadata": {
    "scrolled": true
   },
   "outputs": [
    {
     "name": "stdout",
     "output_type": "stream",
     "text": [
      "175 175\n"
     ]
    }
   ],
   "source": [
    "name_lst, description_lst = [], []\n",
    "\n",
    "with webdriver.Chrome(service=Service(ChromeDriverManager().install())) as driver:\n",
    "    URL = 'https://www.collinsdictionary.com/word-lists/bible-characters-in-the-bible#google_vignette'\n",
    "    driver.get(URL)\n",
    "    \n",
    "    character_lst = driver.find_elements(By.XPATH, '//*[@id=\"main_content\"]/div[1]/div/div[2]/div/div/div[2]/span[1]/span')\n",
    "    \n",
    "    for i in character_lst:\n",
    "        try:\n",
    "            name_lst.append(str(i.find_element(By.XPATH, 'span[1]').text.lower()))\n",
    "            description_lst.append(str(i.find_element(By.XPATH, 'span[2]').text.lower()))\n",
    "        except: pass\n",
    "        \n",
    "print(len(name_lst), len(description_lst))"
   ]
  },
  {
   "cell_type": "code",
   "execution_count": 3,
   "id": "f991cf3e",
   "metadata": {},
   "outputs": [
    {
     "name": "stdout",
     "output_type": "stream",
     "text": [
      "(175, 2)\n"
     ]
    },
    {
     "data": {
      "text/html": [
       "<div>\n",
       "<style scoped>\n",
       "    .dataframe tbody tr th:only-of-type {\n",
       "        vertical-align: middle;\n",
       "    }\n",
       "\n",
       "    .dataframe tbody tr th {\n",
       "        vertical-align: top;\n",
       "    }\n",
       "\n",
       "    .dataframe thead th {\n",
       "        text-align: right;\n",
       "    }\n",
       "</style>\n",
       "<table border=\"1\" class=\"dataframe\">\n",
       "  <thead>\n",
       "    <tr style=\"text-align: right;\">\n",
       "      <th></th>\n",
       "      <th>name</th>\n",
       "      <th>description</th>\n",
       "    </tr>\n",
       "  </thead>\n",
       "  <tbody>\n",
       "    <tr>\n",
       "      <th>0</th>\n",
       "      <td>aaron</td>\n",
       "      <td>the first high priest of the israelites, broth...</td>\n",
       "    </tr>\n",
       "    <tr>\n",
       "      <th>1</th>\n",
       "      <td>abednego</td>\n",
       "      <td>one of daniel's three companions who, together...</td>\n",
       "    </tr>\n",
       "    <tr>\n",
       "      <th>2</th>\n",
       "      <td>abel</td>\n",
       "      <td>the second son of adam and eve, a shepherd, mu...</td>\n",
       "    </tr>\n",
       "    <tr>\n",
       "      <th>3</th>\n",
       "      <td>abigail</td>\n",
       "      <td>the woman who brought provisions to david and ...</td>\n",
       "    </tr>\n",
       "    <tr>\n",
       "      <th>4</th>\n",
       "      <td>abraham</td>\n",
       "      <td>the first of the patriarchs, the father of isa...</td>\n",
       "    </tr>\n",
       "  </tbody>\n",
       "</table>\n",
       "</div>"
      ],
      "text/plain": [
       "       name                                        description\n",
       "0     aaron  the first high priest of the israelites, broth...\n",
       "1  abednego  one of daniel's three companions who, together...\n",
       "2      abel  the second son of adam and eve, a shepherd, mu...\n",
       "3   abigail  the woman who brought provisions to david and ...\n",
       "4   abraham  the first of the patriarchs, the father of isa..."
      ]
     },
     "execution_count": 3,
     "metadata": {},
     "output_type": "execute_result"
    }
   ],
   "source": [
    "bible_character_dic1 = {\n",
    "    'name': name_lst,\n",
    "    'description': description_lst\n",
    "}\n",
    "\n",
    "df1 = pd.DataFrame(bible_character_dic1)\n",
    "print(df1.shape)\n",
    "df1.head()"
   ]
  },
  {
   "cell_type": "code",
   "execution_count": 4,
   "id": "c34d252f",
   "metadata": {},
   "outputs": [
    {
     "data": {
      "text/html": [
       "<div>\n",
       "<style scoped>\n",
       "    .dataframe tbody tr th:only-of-type {\n",
       "        vertical-align: middle;\n",
       "    }\n",
       "\n",
       "    .dataframe tbody tr th {\n",
       "        vertical-align: top;\n",
       "    }\n",
       "\n",
       "    .dataframe thead th {\n",
       "        text-align: right;\n",
       "    }\n",
       "</style>\n",
       "<table border=\"1\" class=\"dataframe\">\n",
       "  <thead>\n",
       "    <tr style=\"text-align: right;\">\n",
       "      <th></th>\n",
       "      <th>name</th>\n",
       "      <th>description</th>\n",
       "    </tr>\n",
       "  </thead>\n",
       "  <tbody>\n",
       "    <tr>\n",
       "      <th>87</th>\n",
       "      <td>john</td>\n",
       "      <td>the apostle john, the son of zebedee, identifi...</td>\n",
       "    </tr>\n",
       "    <tr>\n",
       "      <th>88</th>\n",
       "      <td>john the baptist</td>\n",
       "      <td>the forerunner and baptizer of jesus: he was k...</td>\n",
       "    </tr>\n",
       "  </tbody>\n",
       "</table>\n",
       "</div>"
      ],
      "text/plain": [
       "                name                                        description\n",
       "87              john  the apostle john, the son of zebedee, identifi...\n",
       "88  john the baptist  the forerunner and baptizer of jesus: he was k..."
      ]
     },
     "execution_count": 4,
     "metadata": {},
     "output_type": "execute_result"
    }
   ],
   "source": [
    "df1[df1['name'].str.contains('john')]"
   ]
  },
  {
   "cell_type": "markdown",
   "id": "efdc85f6",
   "metadata": {},
   "source": [
    "## 2. Wikidata (Lists/List of biblical characters)"
   ]
  },
  {
   "cell_type": "code",
   "execution_count": 5,
   "id": "268f79de",
   "metadata": {},
   "outputs": [],
   "source": [
    "name_lst, description_lst, work_lst, instance_lst, gender_lst = [], [], [], [], []"
   ]
  },
  {
   "cell_type": "code",
   "execution_count": 6,
   "id": "5d26984d",
   "metadata": {},
   "outputs": [
    {
     "name": "stderr",
     "output_type": "stream",
     "text": [
      "100%|███████████████████████████████████████| 773/773 [00:00<00:00, 4731.65it/s]"
     ]
    },
    {
     "name": "stdout",
     "output_type": "stream",
     "text": [
      "760 760 760 760 760\n"
     ]
    },
    {
     "name": "stderr",
     "output_type": "stream",
     "text": [
      "\n"
     ]
    }
   ],
   "source": [
    "URL = 'https://www.wikidata.org/wiki/Wikidata:Lists/List_of_biblical_characters'\n",
    "\n",
    "response = requests.get(URL)\n",
    "soups = BeautifulSoup(response.text, 'html.parser')\n",
    "\n",
    "character_lst = soups.select('#mw-content-text > div.mw-parser-output > table > tbody > tr')\n",
    "reg = re.compile(r'[a-zA-Z]')\n",
    "\n",
    "for i in tqdm(character_lst[1:]):\n",
    "    if reg.match(i.select_one('td:nth-child(2)').text) != None:\n",
    "        name_lst.append(i.select_one('td:nth-child(2)').text.lower().replace('\\n', ''))\n",
    "        description_lst.append(i.select_one('td:nth-child(3)').text.lower().replace('\\n', ''))\n",
    "        work_lst.append(i.select_one('td:nth-child(4)').text.lower().replace('\\n', ''))\n",
    "        instance_lst.append(i.select_one('td:nth-child(5)').text.lower().replace('\\n', ''))\n",
    "        gender_lst.append(i.select_one('td:nth-child(6)').text.lower().replace('\\n', ''))\n",
    "        \n",
    "print(len(name_lst), len(description_lst), len(work_lst), len(instance_lst), len(gender_lst))"
   ]
  },
  {
   "cell_type": "code",
   "execution_count": 7,
   "id": "7c66ab51",
   "metadata": {},
   "outputs": [
    {
     "name": "stdout",
     "output_type": "stream",
     "text": [
      "(760, 5)\n"
     ]
    },
    {
     "data": {
      "text/html": [
       "<div>\n",
       "<style scoped>\n",
       "    .dataframe tbody tr th:only-of-type {\n",
       "        vertical-align: middle;\n",
       "    }\n",
       "\n",
       "    .dataframe tbody tr th {\n",
       "        vertical-align: top;\n",
       "    }\n",
       "\n",
       "    .dataframe thead th {\n",
       "        text-align: right;\n",
       "    }\n",
       "</style>\n",
       "<table border=\"1\" class=\"dataframe\">\n",
       "  <thead>\n",
       "    <tr style=\"text-align: right;\">\n",
       "      <th></th>\n",
       "      <th>name</th>\n",
       "      <th>description</th>\n",
       "      <th>work</th>\n",
       "      <th>instance</th>\n",
       "      <th>gender</th>\n",
       "    </tr>\n",
       "  </thead>\n",
       "  <tbody>\n",
       "    <tr>\n",
       "      <th>0</th>\n",
       "      <td>aaron</td>\n",
       "      <td>biblical and quranic character</td>\n",
       "      <td>biblethe prince of egypt</td>\n",
       "      <td>human biblical figure</td>\n",
       "      <td>male</td>\n",
       "    </tr>\n",
       "    <tr>\n",
       "      <th>1</th>\n",
       "      <td>abaddon</td>\n",
       "      <td>angel of destruction</td>\n",
       "      <td></td>\n",
       "      <td>angel in judaismangel in christianityangel</td>\n",
       "      <td>male</td>\n",
       "    </tr>\n",
       "    <tr>\n",
       "      <th>2</th>\n",
       "      <td>abagtha</td>\n",
       "      <td>biblical character</td>\n",
       "      <td>bible</td>\n",
       "      <td>human biblical figure</td>\n",
       "      <td>female</td>\n",
       "    </tr>\n",
       "    <tr>\n",
       "      <th>3</th>\n",
       "      <td>abana</td>\n",
       "      <td>river described in the bible</td>\n",
       "      <td>bible</td>\n",
       "      <td>mythical river</td>\n",
       "      <td></td>\n",
       "    </tr>\n",
       "    <tr>\n",
       "      <th>4</th>\n",
       "      <td>abda</td>\n",
       "      <td>biblical figure</td>\n",
       "      <td>bible</td>\n",
       "      <td>human biblical figure</td>\n",
       "      <td>male</td>\n",
       "    </tr>\n",
       "  </tbody>\n",
       "</table>\n",
       "</div>"
      ],
      "text/plain": [
       "      name                     description                      work  \\\n",
       "0    aaron  biblical and quranic character  biblethe prince of egypt   \n",
       "1  abaddon            angel of destruction                             \n",
       "2  abagtha              biblical character                     bible   \n",
       "3    abana    river described in the bible                     bible   \n",
       "4     abda                 biblical figure                     bible   \n",
       "\n",
       "                                     instance  gender  \n",
       "0                       human biblical figure    male  \n",
       "1  angel in judaismangel in christianityangel    male  \n",
       "2                       human biblical figure  female  \n",
       "3                              mythical river          \n",
       "4                       human biblical figure    male  "
      ]
     },
     "execution_count": 7,
     "metadata": {},
     "output_type": "execute_result"
    }
   ],
   "source": [
    "bible_character_dic2 = {\n",
    "    'name': name_lst,\n",
    "    'description': description_lst,\n",
    "    'work': work_lst,\n",
    "    'instance': instance_lst, \n",
    "    'gender': gender_lst\n",
    "}\n",
    "\n",
    "df2 = pd.DataFrame(bible_character_dic2)\n",
    "print(df2.shape)\n",
    "df2.head()"
   ]
  },
  {
   "cell_type": "code",
   "execution_count": 8,
   "id": "2e629e48",
   "metadata": {},
   "outputs": [
    {
     "data": {
      "text/html": [
       "<div>\n",
       "<style scoped>\n",
       "    .dataframe tbody tr th:only-of-type {\n",
       "        vertical-align: middle;\n",
       "    }\n",
       "\n",
       "    .dataframe tbody tr th {\n",
       "        vertical-align: top;\n",
       "    }\n",
       "\n",
       "    .dataframe thead th {\n",
       "        text-align: right;\n",
       "    }\n",
       "</style>\n",
       "<table border=\"1\" class=\"dataframe\">\n",
       "  <thead>\n",
       "    <tr style=\"text-align: right;\">\n",
       "      <th></th>\n",
       "      <th>name</th>\n",
       "      <th>description</th>\n",
       "      <th>work</th>\n",
       "      <th>instance</th>\n",
       "      <th>gender</th>\n",
       "    </tr>\n",
       "  </thead>\n",
       "  <tbody>\n",
       "    <tr>\n",
       "      <th>165</th>\n",
       "      <td>child saint john</td>\n",
       "      <td>st john the baptist as a child</td>\n",
       "      <td></td>\n",
       "      <td>certain aspects of a person's lifebiblical cha...</td>\n",
       "      <td></td>\n",
       "    </tr>\n",
       "    <tr>\n",
       "      <th>388</th>\n",
       "      <td>john the apostle</td>\n",
       "      <td>apostle of jesus; son of zebedee and salome, b...</td>\n",
       "      <td></td>\n",
       "      <td>humanhuman biblical figure</td>\n",
       "      <td>male</td>\n",
       "    </tr>\n",
       "    <tr>\n",
       "      <th>389</th>\n",
       "      <td>john the baptist</td>\n",
       "      <td>major religious figure</td>\n",
       "      <td>bible</td>\n",
       "      <td>human</td>\n",
       "      <td>male</td>\n",
       "    </tr>\n",
       "    <tr>\n",
       "      <th>534</th>\n",
       "      <td>new testament people named john</td>\n",
       "      <td>from new testament</td>\n",
       "      <td>new testament</td>\n",
       "      <td></td>\n",
       "      <td></td>\n",
       "    </tr>\n",
       "  </tbody>\n",
       "</table>\n",
       "</div>"
      ],
      "text/plain": [
       "                                name  \\\n",
       "165                 child saint john   \n",
       "388                 john the apostle   \n",
       "389                 john the baptist   \n",
       "534  new testament people named john   \n",
       "\n",
       "                                           description           work  \\\n",
       "165                     st john the baptist as a child                  \n",
       "388  apostle of jesus; son of zebedee and salome, b...                  \n",
       "389                             major religious figure          bible   \n",
       "534                                 from new testament  new testament   \n",
       "\n",
       "                                              instance gender  \n",
       "165  certain aspects of a person's lifebiblical cha...         \n",
       "388                         humanhuman biblical figure   male  \n",
       "389                                              human   male  \n",
       "534                                                            "
      ]
     },
     "execution_count": 8,
     "metadata": {},
     "output_type": "execute_result"
    }
   ],
   "source": [
    "df2[df2['name'].str.contains('john')]"
   ]
  },
  {
   "cell_type": "code",
   "execution_count": 9,
   "id": "1bab8aac",
   "metadata": {},
   "outputs": [
    {
     "data": {
      "text/plain": [
       "601"
      ]
     },
     "execution_count": 9,
     "metadata": {},
     "output_type": "execute_result"
    }
   ],
   "source": [
    "len(set(bible_character_dic2['name']) - set(bible_character_dic1['name']))"
   ]
  },
  {
   "cell_type": "code",
   "execution_count": 10,
   "id": "d6ebf672",
   "metadata": {},
   "outputs": [
    {
     "data": {
      "text/plain": [
       "63"
      ]
     },
     "execution_count": 10,
     "metadata": {},
     "output_type": "execute_result"
    }
   ],
   "source": [
    "len(set(bible_character_dic1['name']) - set(bible_character_dic2['name']))"
   ]
  },
  {
   "cell_type": "markdown",
   "id": "ff89a7d3",
   "metadata": {},
   "source": [
    "## 3. Bible Gateway"
   ]
  },
  {
   "cell_type": "code",
   "execution_count": 11,
   "id": "76e94b13",
   "metadata": {},
   "outputs": [
    {
     "name": "stderr",
     "output_type": "stream",
     "text": [
      "100%|█████████████████████████████████████████| 23/23 [00:00<00:00, 3672.91it/s]"
     ]
    },
    {
     "name": "stdout",
     "output_type": "stream",
     "text": [
      "1770\n"
     ]
    },
    {
     "name": "stderr",
     "output_type": "stream",
     "text": [
      "\n"
     ]
    }
   ],
   "source": [
    "name_lst = []\n",
    "\n",
    "URL = 'https://www.biblegateway.com/resources/all-men-bible/Alphabetical-Order-All-Men'\n",
    "\n",
    "response = requests.get(URL)\n",
    "soups = BeautifulSoup(response.text, 'html.parser')\n",
    "\n",
    "character_lst = soups.select('body > div.nav-content > div > section > div:nth-child(5) > section > div > div > div.basic-content.container > div.basic-main.bg-content.row > div > div.exbib-content > div:nth-child(1) > ul > ul')\n",
    "\n",
    "for i in tqdm(character_lst):\n",
    "    for j in i.select('li'):\n",
    "        name_lst.append(j.text.lower())\n",
    "\n",
    "print(len(name_lst))"
   ]
  },
  {
   "cell_type": "code",
   "execution_count": 12,
   "id": "cd24bd38",
   "metadata": {},
   "outputs": [
    {
     "name": "stdout",
     "output_type": "stream",
     "text": [
      "(1770, 1)\n"
     ]
    },
    {
     "data": {
      "text/html": [
       "<div>\n",
       "<style scoped>\n",
       "    .dataframe tbody tr th:only-of-type {\n",
       "        vertical-align: middle;\n",
       "    }\n",
       "\n",
       "    .dataframe tbody tr th {\n",
       "        vertical-align: top;\n",
       "    }\n",
       "\n",
       "    .dataframe thead th {\n",
       "        text-align: right;\n",
       "    }\n",
       "</style>\n",
       "<table border=\"1\" class=\"dataframe\">\n",
       "  <thead>\n",
       "    <tr style=\"text-align: right;\">\n",
       "      <th></th>\n",
       "      <th>name</th>\n",
       "    </tr>\n",
       "  </thead>\n",
       "  <tbody>\n",
       "    <tr>\n",
       "      <th>0</th>\n",
       "      <td>aaron</td>\n",
       "    </tr>\n",
       "    <tr>\n",
       "      <th>1</th>\n",
       "      <td>abagtha</td>\n",
       "    </tr>\n",
       "    <tr>\n",
       "      <th>2</th>\n",
       "      <td>abda</td>\n",
       "    </tr>\n",
       "    <tr>\n",
       "      <th>3</th>\n",
       "      <td>abdeel</td>\n",
       "    </tr>\n",
       "    <tr>\n",
       "      <th>4</th>\n",
       "      <td>abdi</td>\n",
       "    </tr>\n",
       "  </tbody>\n",
       "</table>\n",
       "</div>"
      ],
      "text/plain": [
       "      name\n",
       "0    aaron\n",
       "1  abagtha\n",
       "2     abda\n",
       "3   abdeel\n",
       "4     abdi"
      ]
     },
     "execution_count": 12,
     "metadata": {},
     "output_type": "execute_result"
    }
   ],
   "source": [
    "bible_character_dic3 = {\n",
    "    'name': name_lst\n",
    "}\n",
    "\n",
    "df3 = pd.DataFrame(bible_character_dic3)\n",
    "print(df3.shape)\n",
    "df3.head()"
   ]
  },
  {
   "cell_type": "code",
   "execution_count": 13,
   "id": "0ea4b4c2",
   "metadata": {},
   "outputs": [
    {
     "data": {
      "text/html": [
       "<div>\n",
       "<style scoped>\n",
       "    .dataframe tbody tr th:only-of-type {\n",
       "        vertical-align: middle;\n",
       "    }\n",
       "\n",
       "    .dataframe tbody tr th {\n",
       "        vertical-align: top;\n",
       "    }\n",
       "\n",
       "    .dataframe thead th {\n",
       "        text-align: right;\n",
       "    }\n",
       "</style>\n",
       "<table border=\"1\" class=\"dataframe\">\n",
       "  <thead>\n",
       "    <tr style=\"text-align: right;\">\n",
       "      <th></th>\n",
       "      <th>name</th>\n",
       "    </tr>\n",
       "  </thead>\n",
       "  <tbody>\n",
       "    <tr>\n",
       "      <th>266</th>\n",
       "      <td>bar-jesus</td>\n",
       "    </tr>\n",
       "    <tr>\n",
       "      <th>936</th>\n",
       "      <td>jesus</td>\n",
       "    </tr>\n",
       "    <tr>\n",
       "      <th>998</th>\n",
       "      <td>joshua, jehoshua, jehoshuah, jeshua, jesus</td>\n",
       "    </tr>\n",
       "  </tbody>\n",
       "</table>\n",
       "</div>"
      ],
      "text/plain": [
       "                                           name\n",
       "266                                   bar-jesus\n",
       "936                                       jesus\n",
       "998  joshua, jehoshua, jehoshuah, jeshua, jesus"
      ]
     },
     "execution_count": 13,
     "metadata": {},
     "output_type": "execute_result"
    }
   ],
   "source": [
    "df3[df3['name'].str.contains('jesus')]"
   ]
  },
  {
   "cell_type": "code",
   "execution_count": 14,
   "id": "a78d4708",
   "metadata": {},
   "outputs": [
    {
     "data": {
      "text/plain": [
       "1498"
      ]
     },
     "execution_count": 14,
     "metadata": {},
     "output_type": "execute_result"
    }
   ],
   "source": [
    "len(set(bible_character_dic3['name']) - set(bible_character_dic2['name']))"
   ]
  }
 ],
 "metadata": {
  "kernelspec": {
   "display_name": "Python 3 (ipykernel)",
   "language": "python",
   "name": "python3"
  },
  "language_info": {
   "codemirror_mode": {
    "name": "ipython",
    "version": 3
   },
   "file_extension": ".py",
   "mimetype": "text/x-python",
   "name": "python",
   "nbconvert_exporter": "python",
   "pygments_lexer": "ipython3",
   "version": "3.11.5"
  }
 },
 "nbformat": 4,
 "nbformat_minor": 5
}

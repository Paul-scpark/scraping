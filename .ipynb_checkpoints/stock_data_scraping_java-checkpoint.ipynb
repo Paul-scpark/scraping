{
 "cells": [
  {
   "cell_type": "code",
   "execution_count": 35,
   "metadata": {},
   "outputs": [],
   "source": [
    "import pandas as pd\n",
    "import numpy as np\n",
    "import yfinance as yf\n",
    "\n",
    "import requests, csv, re\n",
    "from bs4 import BeautifulSoup, NavigableString, Tag"
   ]
  },
  {
   "cell_type": "markdown",
   "metadata": {},
   "source": [
    "## 2021.09.27 김학주 교수님 조선일보 자료"
   ]
  },
  {
   "cell_type": "markdown",
   "metadata": {},
   "source": [
    "### 1. 2005년 1월부터의 S&P500 주가"
   ]
  },
  {
   "cell_type": "code",
   "execution_count": 34,
   "metadata": {},
   "outputs": [
    {
     "name": "stdout",
     "output_type": "stream",
     "text": [
      "(4212, 1)\n"
     ]
    },
    {
     "data": {
      "text/html": [
       "<div>\n",
       "<style scoped>\n",
       "    .dataframe tbody tr th:only-of-type {\n",
       "        vertical-align: middle;\n",
       "    }\n",
       "\n",
       "    .dataframe tbody tr th {\n",
       "        vertical-align: top;\n",
       "    }\n",
       "\n",
       "    .dataframe thead th {\n",
       "        text-align: right;\n",
       "    }\n",
       "</style>\n",
       "<table border=\"1\" class=\"dataframe\">\n",
       "  <thead>\n",
       "    <tr style=\"text-align: right;\">\n",
       "      <th></th>\n",
       "      <th>Close</th>\n",
       "    </tr>\n",
       "    <tr>\n",
       "      <th>Date</th>\n",
       "      <th></th>\n",
       "    </tr>\n",
       "  </thead>\n",
       "  <tbody>\n",
       "    <tr>\n",
       "      <th>2005-01-03</th>\n",
       "      <td>1202.079956</td>\n",
       "    </tr>\n",
       "    <tr>\n",
       "      <th>2005-01-04</th>\n",
       "      <td>1188.050049</td>\n",
       "    </tr>\n",
       "    <tr>\n",
       "      <th>2005-01-05</th>\n",
       "      <td>1183.739990</td>\n",
       "    </tr>\n",
       "    <tr>\n",
       "      <th>2005-01-06</th>\n",
       "      <td>1187.890015</td>\n",
       "    </tr>\n",
       "    <tr>\n",
       "      <th>2005-01-07</th>\n",
       "      <td>1186.189941</td>\n",
       "    </tr>\n",
       "  </tbody>\n",
       "</table>\n",
       "</div>"
      ],
      "text/plain": [
       "                  Close\n",
       "Date                   \n",
       "2005-01-03  1202.079956\n",
       "2005-01-04  1188.050049\n",
       "2005-01-05  1183.739990\n",
       "2005-01-06  1187.890015\n",
       "2005-01-07  1186.189941"
      ]
     },
     "execution_count": 34,
     "metadata": {},
     "output_type": "execute_result"
    }
   ],
   "source": [
    "SNP = yf.Ticker('^GSPC').history('max')\n",
    "SNP = SNP[SNP.index >= '2005-01-01'].loc[:, ['Close']]\n",
    "print(SNP.shape)\n",
    "SNP.head()"
   ]
  },
  {
   "cell_type": "markdown",
   "metadata": {},
   "source": [
    "### 2. 2019년 1월부터의 Coal price와 Iron ore price - java scraping"
   ]
  },
  {
   "cell_type": "code",
   "execution_count": 96,
   "metadata": {},
   "outputs": [
    {
     "name": "stdout",
     "output_type": "stream",
     "text": [
      "<class 'bs4.BeautifulSoup'>\n"
     ]
    }
   ],
   "source": [
    "### Coal\n",
    "\n",
    "# https://curl.trillworks.com/\n",
    "# https://tradingeconomics.com/commodity/coal\n",
    "\n",
    "headers = {\n",
    "    'authority': 'markets.tradingeconomics.com',\n",
    "    'sec-ch-ua': '',\n",
    "    'accept': '',\n",
    "    'sec-ch-ua-mobile': '',\n",
    "    'user-agent': '',\n",
    "    'sec-ch-ua-platform': '',\n",
    "    'origin': 'https://tradingeconomics.com',\n",
    "    'sec-fetch-site': '',\n",
    "    'sec-fetch-mode': '',\n",
    "    'sec-fetch-dest': '',\n",
    "    'referer': 'https://tradingeconomics.com/',\n",
    "    'accept-language': '',\n",
    "}\n",
    "\n",
    "params = (\n",
    "    ('s', 'xal1:com'),\n",
    "    ('span', 'max'),\n",
    "    ('securify', 'new'),\n",
    "    ('url', 'commoditycoal'),\n",
    "    ('AUTH', ''),\n",
    ")\n",
    "\n",
    "response = requests.get('https://markets.tradingeconomics.com/chart', headers=headers, params=params)\n",
    "soup = BeautifulSoup(response.text, 'html.parser')\n",
    "print(type(soup))"
   ]
  },
  {
   "cell_type": "code",
   "execution_count": 121,
   "metadata": {},
   "outputs": [
    {
     "name": "stdout",
     "output_type": "stream",
     "text": [
      "154 154\n"
     ]
    }
   ],
   "source": [
    "text = str(soup)[210:]\n",
    "times = text.split('close\":')[1:]\n",
    "\n",
    "Coal_lst = []\n",
    "Coal_date = []\n",
    "for time in times:\n",
    "    Coal_lst.append(time[:8])\n",
    "    Coal_date.append(time.split(',\"date\":\"')[1][:10])\n",
    "    \n",
    "print(len(Coal_lst), len(Coal_date))"
   ]
  },
  {
   "cell_type": "code",
   "execution_count": 127,
   "metadata": {},
   "outputs": [
    {
     "name": "stdout",
     "output_type": "stream",
     "text": [
      "(154, 2)\n"
     ]
    },
    {
     "data": {
      "text/html": [
       "<div>\n",
       "<style scoped>\n",
       "    .dataframe tbody tr th:only-of-type {\n",
       "        vertical-align: middle;\n",
       "    }\n",
       "\n",
       "    .dataframe tbody tr th {\n",
       "        vertical-align: top;\n",
       "    }\n",
       "\n",
       "    .dataframe thead th {\n",
       "        text-align: right;\n",
       "    }\n",
       "</style>\n",
       "<table border=\"1\" class=\"dataframe\">\n",
       "  <thead>\n",
       "    <tr style=\"text-align: right;\">\n",
       "      <th></th>\n",
       "      <th>Date</th>\n",
       "      <th>coal</th>\n",
       "    </tr>\n",
       "  </thead>\n",
       "  <tbody>\n",
       "    <tr>\n",
       "      <th>0</th>\n",
       "      <td>2008-12-05</td>\n",
       "      <td>75.33000</td>\n",
       "    </tr>\n",
       "    <tr>\n",
       "      <th>1</th>\n",
       "      <td>2009-01-02</td>\n",
       "      <td>78.13000</td>\n",
       "    </tr>\n",
       "    <tr>\n",
       "      <th>2</th>\n",
       "      <td>2009-02-02</td>\n",
       "      <td>61.75000</td>\n",
       "    </tr>\n",
       "    <tr>\n",
       "      <th>3</th>\n",
       "      <td>2009-03-02</td>\n",
       "      <td>61.17000</td>\n",
       "    </tr>\n",
       "    <tr>\n",
       "      <th>4</th>\n",
       "      <td>2009-04-01</td>\n",
       "      <td>64.20000</td>\n",
       "    </tr>\n",
       "  </tbody>\n",
       "</table>\n",
       "</div>"
      ],
      "text/plain": [
       "         Date      coal\n",
       "0  2008-12-05  75.33000\n",
       "1  2009-01-02  78.13000\n",
       "2  2009-02-02  61.75000\n",
       "3  2009-03-02  61.17000\n",
       "4  2009-04-01  64.20000"
      ]
     },
     "execution_count": 127,
     "metadata": {},
     "output_type": "execute_result"
    }
   ],
   "source": [
    "Coal = pd.concat([pd.DataFrame(Coal_date), pd.DataFrame(Coal_lst)], axis = 1)\n",
    "Coal.columns = ['Date', 'coal']\n",
    "print(Coal.shape)\n",
    "Coal.head()"
   ]
  },
  {
   "cell_type": "code",
   "execution_count": 59,
   "metadata": {},
   "outputs": [
    {
     "name": "stdout",
     "output_type": "stream",
     "text": [
      "<class 'bs4.BeautifulSoup'>\n"
     ]
    }
   ],
   "source": [
    "### Iron ore\n",
    "\n",
    "# https://curl.trillworks.com/\n",
    "# https://tradingeconomics.com/commodity/iron-ore\n",
    "\n",
    "headers = {\n",
    "    'authority': 'markets.tradingeconomics.com',\n",
    "    'sec-ch-ua': '',\n",
    "    'accept': '',\n",
    "    'sec-ch-ua-mobile': '',\n",
    "    'user-agent': '',\n",
    "    'sec-ch-ua-platform': '',\n",
    "    'origin': 'https://tradingeconomics.com',\n",
    "    'sec-fetch-site': '',\n",
    "    'sec-fetch-mode': '',\n",
    "    'sec-fetch-dest': '',\n",
    "    'referer': 'https://tradingeconomics.com/',\n",
    "    'accept-language': '',\n",
    "}\n",
    "\n",
    "params = (\n",
    "    ('s', 'sco:com'),\n",
    "    ('span', 'max'),\n",
    "    ('securify', 'new'),\n",
    "    ('url', 'commodityironore'),\n",
    "    ('AUTH', ''),\n",
    ")\n",
    "\n",
    "response = requests.get('https://markets.tradingeconomics.com/chart', headers=headers, params=params)\n",
    "soup = BeautifulSoup(response.text, 'html.parser')\n",
    "print(type(soup))"
   ]
  },
  {
   "cell_type": "code",
   "execution_count": 95,
   "metadata": {},
   "outputs": [
    {
     "name": "stdout",
     "output_type": "stream",
     "text": [
      "169 169\n"
     ]
    }
   ],
   "source": [
    "text = str(soup)[172:]\n",
    "times = text.split('close\":')[1:]\n",
    "\n",
    "Iron_ore_lst = []\n",
    "Iron_ore_date = []\n",
    "for time in times:\n",
    "    Iron_ore_lst.append(time[:9])\n",
    "    Iron_ore_date.append(time.split(',\"date\":\"')[1][:10])\n",
    "\n",
    "print(len(Iron_ore_lst), len(Iron_ore_date))"
   ]
  },
  {
   "cell_type": "code",
   "execution_count": 128,
   "metadata": {},
   "outputs": [
    {
     "name": "stdout",
     "output_type": "stream",
     "text": [
      "(169, 2)\n"
     ]
    },
    {
     "data": {
      "text/html": [
       "<div>\n",
       "<style scoped>\n",
       "    .dataframe tbody tr th:only-of-type {\n",
       "        vertical-align: middle;\n",
       "    }\n",
       "\n",
       "    .dataframe tbody tr th {\n",
       "        vertical-align: top;\n",
       "    }\n",
       "\n",
       "    .dataframe thead th {\n",
       "        text-align: right;\n",
       "    }\n",
       "</style>\n",
       "<table border=\"1\" class=\"dataframe\">\n",
       "  <thead>\n",
       "    <tr style=\"text-align: right;\">\n",
       "      <th></th>\n",
       "      <th>Date</th>\n",
       "      <th>Iron_ore</th>\n",
       "    </tr>\n",
       "  </thead>\n",
       "  <tbody>\n",
       "    <tr>\n",
       "      <th>0</th>\n",
       "      <td>2007-09-18</td>\n",
       "      <td>154.00000</td>\n",
       "    </tr>\n",
       "    <tr>\n",
       "      <th>1</th>\n",
       "      <td>2007-10-01</td>\n",
       "      <td>180.00000</td>\n",
       "    </tr>\n",
       "    <tr>\n",
       "      <th>2</th>\n",
       "      <td>2007-11-01</td>\n",
       "      <td>185.00000</td>\n",
       "    </tr>\n",
       "    <tr>\n",
       "      <th>3</th>\n",
       "      <td>2007-12-03</td>\n",
       "      <td>190.00000</td>\n",
       "    </tr>\n",
       "    <tr>\n",
       "      <th>4</th>\n",
       "      <td>2008-01-01</td>\n",
       "      <td>185.00000</td>\n",
       "    </tr>\n",
       "  </tbody>\n",
       "</table>\n",
       "</div>"
      ],
      "text/plain": [
       "         Date   Iron_ore\n",
       "0  2007-09-18  154.00000\n",
       "1  2007-10-01  180.00000\n",
       "2  2007-11-01  185.00000\n",
       "3  2007-12-03  190.00000\n",
       "4  2008-01-01  185.00000"
      ]
     },
     "execution_count": 128,
     "metadata": {},
     "output_type": "execute_result"
    }
   ],
   "source": [
    "Iron_ore = pd.concat([pd.DataFrame(Iron_ore_date), pd.DataFrame(Iron_ore_lst)], axis = 1)\n",
    "Iron_ore.columns = ['Date', 'Iron_ore']\n",
    "print(Iron_ore.shape)\n",
    "Iron_ore.head()"
   ]
  },
  {
   "cell_type": "markdown",
   "metadata": {},
   "source": [
    "### 3. 2017년부터의 BOTZ, Yaskawa, Komatsu 주가"
   ]
  },
  {
   "cell_type": "code",
   "execution_count": 17,
   "metadata": {},
   "outputs": [
    {
     "data": {
      "text/html": [
       "<div>\n",
       "<style scoped>\n",
       "    .dataframe tbody tr th:only-of-type {\n",
       "        vertical-align: middle;\n",
       "    }\n",
       "\n",
       "    .dataframe tbody tr th {\n",
       "        vertical-align: top;\n",
       "    }\n",
       "\n",
       "    .dataframe thead th {\n",
       "        text-align: right;\n",
       "    }\n",
       "</style>\n",
       "<table border=\"1\" class=\"dataframe\">\n",
       "  <thead>\n",
       "    <tr style=\"text-align: right;\">\n",
       "      <th></th>\n",
       "      <th>Close</th>\n",
       "    </tr>\n",
       "    <tr>\n",
       "      <th>Date</th>\n",
       "      <th></th>\n",
       "    </tr>\n",
       "  </thead>\n",
       "  <tbody>\n",
       "    <tr>\n",
       "      <th>2017-01-03</th>\n",
       "      <td>14.687322</td>\n",
       "    </tr>\n",
       "    <tr>\n",
       "      <th>2017-01-04</th>\n",
       "      <td>14.901308</td>\n",
       "    </tr>\n",
       "    <tr>\n",
       "      <th>2017-01-05</th>\n",
       "      <td>14.930489</td>\n",
       "    </tr>\n",
       "    <tr>\n",
       "      <th>2017-01-06</th>\n",
       "      <td>14.949942</td>\n",
       "    </tr>\n",
       "    <tr>\n",
       "      <th>2017-01-09</th>\n",
       "      <td>14.911034</td>\n",
       "    </tr>\n",
       "  </tbody>\n",
       "</table>\n",
       "</div>"
      ],
      "text/plain": [
       "                Close\n",
       "Date                 \n",
       "2017-01-03  14.687322\n",
       "2017-01-04  14.901308\n",
       "2017-01-05  14.930489\n",
       "2017-01-06  14.949942\n",
       "2017-01-09  14.911034"
      ]
     },
     "execution_count": 17,
     "metadata": {},
     "output_type": "execute_result"
    }
   ],
   "source": [
    "BOTZ = yf.Ticker('BOTZ').history('max')\n",
    "BOTZ = BOTZ[BOTZ.index >= '2017-01-01'].loc[:, ['Close']]\n",
    "BOTZ.head()"
   ]
  },
  {
   "cell_type": "code",
   "execution_count": 18,
   "metadata": {},
   "outputs": [
    {
     "data": {
      "text/html": [
       "<div>\n",
       "<style scoped>\n",
       "    .dataframe tbody tr th:only-of-type {\n",
       "        vertical-align: middle;\n",
       "    }\n",
       "\n",
       "    .dataframe tbody tr th {\n",
       "        vertical-align: top;\n",
       "    }\n",
       "\n",
       "    .dataframe thead th {\n",
       "        text-align: right;\n",
       "    }\n",
       "</style>\n",
       "<table border=\"1\" class=\"dataframe\">\n",
       "  <thead>\n",
       "    <tr style=\"text-align: right;\">\n",
       "      <th></th>\n",
       "      <th>Close</th>\n",
       "    </tr>\n",
       "    <tr>\n",
       "      <th>Date</th>\n",
       "      <th></th>\n",
       "    </tr>\n",
       "  </thead>\n",
       "  <tbody>\n",
       "    <tr>\n",
       "      <th>2017-01-03</th>\n",
       "      <td>31.000000</td>\n",
       "    </tr>\n",
       "    <tr>\n",
       "      <th>2017-01-04</th>\n",
       "      <td>32.400002</td>\n",
       "    </tr>\n",
       "    <tr>\n",
       "      <th>2017-01-05</th>\n",
       "      <td>32.192001</td>\n",
       "    </tr>\n",
       "    <tr>\n",
       "      <th>2017-01-06</th>\n",
       "      <td>32.192001</td>\n",
       "    </tr>\n",
       "    <tr>\n",
       "      <th>2017-01-09</th>\n",
       "      <td>31.850000</td>\n",
       "    </tr>\n",
       "  </tbody>\n",
       "</table>\n",
       "</div>"
      ],
      "text/plain": [
       "                Close\n",
       "Date                 \n",
       "2017-01-03  31.000000\n",
       "2017-01-04  32.400002\n",
       "2017-01-05  32.192001\n",
       "2017-01-06  32.192001\n",
       "2017-01-09  31.850000"
      ]
     },
     "execution_count": 18,
     "metadata": {},
     "output_type": "execute_result"
    }
   ],
   "source": [
    "YASKY = yf.Ticker('YASKY').history('max')\n",
    "YASKY = YASKY[YASKY.index >= '2017-01-01'].loc[:, ['Close']]\n",
    "YASKY.head()"
   ]
  },
  {
   "cell_type": "code",
   "execution_count": 19,
   "metadata": {},
   "outputs": [
    {
     "data": {
      "text/html": [
       "<div>\n",
       "<style scoped>\n",
       "    .dataframe tbody tr th:only-of-type {\n",
       "        vertical-align: middle;\n",
       "    }\n",
       "\n",
       "    .dataframe tbody tr th {\n",
       "        vertical-align: top;\n",
       "    }\n",
       "\n",
       "    .dataframe thead th {\n",
       "        text-align: right;\n",
       "    }\n",
       "</style>\n",
       "<table border=\"1\" class=\"dataframe\">\n",
       "  <thead>\n",
       "    <tr style=\"text-align: right;\">\n",
       "      <th></th>\n",
       "      <th>Close</th>\n",
       "    </tr>\n",
       "    <tr>\n",
       "      <th>Date</th>\n",
       "      <th></th>\n",
       "    </tr>\n",
       "  </thead>\n",
       "  <tbody>\n",
       "    <tr>\n",
       "      <th>2017-01-03</th>\n",
       "      <td>22.809999</td>\n",
       "    </tr>\n",
       "    <tr>\n",
       "      <th>2017-01-04</th>\n",
       "      <td>23.240000</td>\n",
       "    </tr>\n",
       "    <tr>\n",
       "      <th>2017-01-05</th>\n",
       "      <td>22.969999</td>\n",
       "    </tr>\n",
       "    <tr>\n",
       "      <th>2017-01-06</th>\n",
       "      <td>22.940001</td>\n",
       "    </tr>\n",
       "    <tr>\n",
       "      <th>2017-01-09</th>\n",
       "      <td>22.940001</td>\n",
       "    </tr>\n",
       "  </tbody>\n",
       "</table>\n",
       "</div>"
      ],
      "text/plain": [
       "                Close\n",
       "Date                 \n",
       "2017-01-03  22.809999\n",
       "2017-01-04  23.240000\n",
       "2017-01-05  22.969999\n",
       "2017-01-06  22.940001\n",
       "2017-01-09  22.940001"
      ]
     },
     "execution_count": 19,
     "metadata": {},
     "output_type": "execute_result"
    }
   ],
   "source": [
    "KMTUY = yf.Ticker('KMTUY').history('max')\n",
    "KMTUY = KMTUY[KMTUY.index >= '2017-01-01'].loc[:, ['Close']]\n",
    "KMTUY.head()"
   ]
  },
  {
   "cell_type": "code",
   "execution_count": 31,
   "metadata": {},
   "outputs": [
    {
     "data": {
      "text/html": [
       "<div>\n",
       "<style scoped>\n",
       "    .dataframe tbody tr th:only-of-type {\n",
       "        vertical-align: middle;\n",
       "    }\n",
       "\n",
       "    .dataframe tbody tr th {\n",
       "        vertical-align: top;\n",
       "    }\n",
       "\n",
       "    .dataframe thead th {\n",
       "        text-align: right;\n",
       "    }\n",
       "</style>\n",
       "<table border=\"1\" class=\"dataframe\">\n",
       "  <thead>\n",
       "    <tr style=\"text-align: right;\">\n",
       "      <th></th>\n",
       "      <th>BOTZ</th>\n",
       "      <th>YASKY</th>\n",
       "    </tr>\n",
       "    <tr>\n",
       "      <th>Date</th>\n",
       "      <th></th>\n",
       "      <th></th>\n",
       "    </tr>\n",
       "  </thead>\n",
       "  <tbody>\n",
       "    <tr>\n",
       "      <th>2017-01-03</th>\n",
       "      <td>14.687322</td>\n",
       "      <td>31.000000</td>\n",
       "    </tr>\n",
       "    <tr>\n",
       "      <th>2017-01-04</th>\n",
       "      <td>14.901308</td>\n",
       "      <td>32.400002</td>\n",
       "    </tr>\n",
       "    <tr>\n",
       "      <th>2017-01-05</th>\n",
       "      <td>14.930489</td>\n",
       "      <td>32.192001</td>\n",
       "    </tr>\n",
       "    <tr>\n",
       "      <th>2017-01-06</th>\n",
       "      <td>14.949942</td>\n",
       "      <td>32.192001</td>\n",
       "    </tr>\n",
       "    <tr>\n",
       "      <th>2017-01-09</th>\n",
       "      <td>14.911034</td>\n",
       "      <td>31.850000</td>\n",
       "    </tr>\n",
       "  </tbody>\n",
       "</table>\n",
       "</div>"
      ],
      "text/plain": [
       "                 BOTZ      YASKY\n",
       "Date                            \n",
       "2017-01-03  14.687322  31.000000\n",
       "2017-01-04  14.901308  32.400002\n",
       "2017-01-05  14.930489  32.192001\n",
       "2017-01-06  14.949942  32.192001\n",
       "2017-01-09  14.911034  31.850000"
      ]
     },
     "execution_count": 31,
     "metadata": {},
     "output_type": "execute_result"
    }
   ],
   "source": [
    "df = pd.merge(BOTZ, YASKY, how = 'inner', left_on=BOTZ.index, right_on=YASKY.index)\n",
    "df.columns = ['Date', 'BOTZ', 'YASKY']\n",
    "df = df.set_index('Date')\n",
    "df.head()"
   ]
  },
  {
   "cell_type": "code",
   "execution_count": 32,
   "metadata": {},
   "outputs": [
    {
     "name": "stdout",
     "output_type": "stream",
     "text": [
      "(1190, 3)\n"
     ]
    },
    {
     "data": {
      "text/html": [
       "<div>\n",
       "<style scoped>\n",
       "    .dataframe tbody tr th:only-of-type {\n",
       "        vertical-align: middle;\n",
       "    }\n",
       "\n",
       "    .dataframe tbody tr th {\n",
       "        vertical-align: top;\n",
       "    }\n",
       "\n",
       "    .dataframe thead th {\n",
       "        text-align: right;\n",
       "    }\n",
       "</style>\n",
       "<table border=\"1\" class=\"dataframe\">\n",
       "  <thead>\n",
       "    <tr style=\"text-align: right;\">\n",
       "      <th></th>\n",
       "      <th>BOTZ</th>\n",
       "      <th>YASKY</th>\n",
       "      <th>KMTUY</th>\n",
       "    </tr>\n",
       "    <tr>\n",
       "      <th>Date</th>\n",
       "      <th></th>\n",
       "      <th></th>\n",
       "      <th></th>\n",
       "    </tr>\n",
       "  </thead>\n",
       "  <tbody>\n",
       "    <tr>\n",
       "      <th>2017-01-03</th>\n",
       "      <td>14.687322</td>\n",
       "      <td>31.000000</td>\n",
       "      <td>22.809999</td>\n",
       "    </tr>\n",
       "    <tr>\n",
       "      <th>2017-01-04</th>\n",
       "      <td>14.901308</td>\n",
       "      <td>32.400002</td>\n",
       "      <td>23.240000</td>\n",
       "    </tr>\n",
       "    <tr>\n",
       "      <th>2017-01-05</th>\n",
       "      <td>14.930489</td>\n",
       "      <td>32.192001</td>\n",
       "      <td>22.969999</td>\n",
       "    </tr>\n",
       "    <tr>\n",
       "      <th>2017-01-06</th>\n",
       "      <td>14.949942</td>\n",
       "      <td>32.192001</td>\n",
       "      <td>22.940001</td>\n",
       "    </tr>\n",
       "    <tr>\n",
       "      <th>2017-01-09</th>\n",
       "      <td>14.911034</td>\n",
       "      <td>31.850000</td>\n",
       "      <td>22.940001</td>\n",
       "    </tr>\n",
       "  </tbody>\n",
       "</table>\n",
       "</div>"
      ],
      "text/plain": [
       "                 BOTZ      YASKY      KMTUY\n",
       "Date                                       \n",
       "2017-01-03  14.687322  31.000000  22.809999\n",
       "2017-01-04  14.901308  32.400002  23.240000\n",
       "2017-01-05  14.930489  32.192001  22.969999\n",
       "2017-01-06  14.949942  32.192001  22.940001\n",
       "2017-01-09  14.911034  31.850000  22.940001"
      ]
     },
     "execution_count": 32,
     "metadata": {},
     "output_type": "execute_result"
    }
   ],
   "source": [
    "df = pd.merge(df, KMTUY, how = 'inner', left_on=df.index, right_on=KMTUY.index)\n",
    "df.columns = ['Date', 'BOTZ', 'YASKY', 'KMTUY']\n",
    "df = df.set_index('Date')\n",
    "print(df.shape)\n",
    "df.head()"
   ]
  },
  {
   "cell_type": "markdown",
   "metadata": {},
   "source": [
    "## 만들어진 데이터들 저장하기"
   ]
  },
  {
   "cell_type": "code",
   "execution_count": 129,
   "metadata": {},
   "outputs": [],
   "source": [
    "SNP.to_excel('/Users/paul/Desktop/SNP500.xlsx')\n",
    "Coal.to_excel('/Users/paul/Desktop/Coal.xlsx')\n",
    "Iron_ore.to_excel('/Users/paul/Desktop/Iron_ore.xlsx')\n",
    "df.to_excel('/Users/paul/Desktop/ETF3.xlsx')"
   ]
  }
 ],
 "metadata": {
  "kernelspec": {
   "display_name": "Python 3",
   "language": "python",
   "name": "python3"
  },
  "language_info": {
   "codemirror_mode": {
    "name": "ipython",
    "version": 3
   },
   "file_extension": ".py",
   "mimetype": "text/x-python",
   "name": "python",
   "nbconvert_exporter": "python",
   "pygments_lexer": "ipython3",
   "version": "3.8.5"
  }
 },
 "nbformat": 4,
 "nbformat_minor": 4
}

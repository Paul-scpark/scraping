{
 "cells": [
  {
   "cell_type": "code",
   "execution_count": 1,
   "id": "f5d24545",
   "metadata": {},
   "outputs": [],
   "source": [
    "import pandas as pd\n",
    "import numpy as np\n",
    "\n",
    "from bs4 import BeautifulSoup, NavigableString, Tag\n",
    "from tqdm import tqdm\n",
    "\n",
    "import csv, requests, warnings\n",
    "warnings.filterwarnings(action='ignore')"
   ]
  },
  {
   "cell_type": "code",
   "execution_count": 2,
   "id": "ef44240e",
   "metadata": {},
   "outputs": [
    {
     "name": "stderr",
     "output_type": "stream",
     "text": [
      "100%|█████████████████████████████████████████| 125/125 [00:56<00:00,  2.22it/s]"
     ]
    },
    {
     "name": "stdout",
     "output_type": "stream",
     "text": [
      "펀드 데이터: (2446, 2) 2446\n"
     ]
    },
    {
     "name": "stderr",
     "output_type": "stream",
     "text": [
      "\n"
     ]
    }
   ],
   "source": [
    "### 대신증권 홈페이지에서 제공되고 있는 전체 펀드 정보 데이터를 수집하여 데이터프레임으로 만들기\n",
    "fund_dic = {'상품이름': [], '3개월수익률': []}\n",
    "for page in tqdm(range(0, 125)):\n",
    "    URL = f'https://www.daishin.com/g.ds?m=9595&p=9000&v=8972&nk_page={page}'\n",
    "    \n",
    "    response = requests.get(URL)\n",
    "    soup = BeautifulSoup(response.text, 'html.parser')\n",
    "    \n",
    "    ## tr 태그 안에 있는 펀드 리스트에서 개별 펀드에 대한 정보를 추출 (펀드 이름, 3개월 수익률)\n",
    "    for fund in soup.select('#tblInfoList > tbody > tr'):\n",
    "        fund_name = fund.select_one('.left > div > div > .prodTitle > a')\n",
    "        fund_3m_yield = fund.select_one('.pointBOrange > div')\n",
    "        \n",
    "        ## 펀드의 이름과 3개월수익률 데이터 모두 있는 경우\n",
    "        if (fund_name != None) & (fund_3m_yield != None):\n",
    "            fund_dic['상품이름'] += [fund_name.text]\n",
    "            fund_dic['3개월수익률'] += [fund_3m_yield.text]\n",
    "            \n",
    "fund_df = pd.DataFrame(fund_dic)\n",
    "print('펀드 데이터:', fund_df.shape, len(fund_df['상품이름'].unique()))"
   ]
  },
  {
   "cell_type": "code",
   "execution_count": 3,
   "id": "231223d3",
   "metadata": {},
   "outputs": [
    {
     "data": {
      "text/html": [
       "<div>\n",
       "<style scoped>\n",
       "    .dataframe tbody tr th:only-of-type {\n",
       "        vertical-align: middle;\n",
       "    }\n",
       "\n",
       "    .dataframe tbody tr th {\n",
       "        vertical-align: top;\n",
       "    }\n",
       "\n",
       "    .dataframe thead th {\n",
       "        text-align: right;\n",
       "    }\n",
       "</style>\n",
       "<table border=\"1\" class=\"dataframe\">\n",
       "  <thead>\n",
       "    <tr style=\"text-align: right;\">\n",
       "      <th></th>\n",
       "      <th>상품이름</th>\n",
       "      <th>3개월수익률</th>\n",
       "    </tr>\n",
       "  </thead>\n",
       "  <tbody>\n",
       "    <tr>\n",
       "      <th>0</th>\n",
       "      <td>삼성코스닥150 1.5배레버리지증권자신탁[주식파생]Ae</td>\n",
       "      <td>21.79</td>\n",
       "    </tr>\n",
       "    <tr>\n",
       "      <th>1</th>\n",
       "      <td>삼성코스닥150 1.5배레버리지증권자신탁[주식파생]Ce</td>\n",
       "      <td>21.75</td>\n",
       "    </tr>\n",
       "    <tr>\n",
       "      <th>2</th>\n",
       "      <td>삼성코스닥150 1.5배레버리지증권자신탁[주식파생]A</td>\n",
       "      <td>21.70</td>\n",
       "    </tr>\n",
       "    <tr>\n",
       "      <th>3</th>\n",
       "      <td>삼성코스닥150 1.5배레버리지증권자신탁[주식파생]C1</td>\n",
       "      <td>21.55</td>\n",
       "    </tr>\n",
       "    <tr>\n",
       "      <th>4</th>\n",
       "      <td>브레인코스닥벤처증권투자신탁(주식혼합)종류AE</td>\n",
       "      <td>18.26</td>\n",
       "    </tr>\n",
       "    <tr>\n",
       "      <th>...</th>\n",
       "      <td>...</td>\n",
       "      <td>...</td>\n",
       "    </tr>\n",
       "    <tr>\n",
       "      <th>2441</th>\n",
       "      <td>미래에셋G2이노베이터증권자투자신탁(주식)종류C-e</td>\n",
       "      <td>-7.89</td>\n",
       "    </tr>\n",
       "    <tr>\n",
       "      <th>2442</th>\n",
       "      <td>미래에셋G2이노베이터증권자투자신탁(주식)종류CG</td>\n",
       "      <td>-7.94</td>\n",
       "    </tr>\n",
       "    <tr>\n",
       "      <th>2443</th>\n",
       "      <td>미래에셋G2이노베이터증권자투자신탁(주식)종류A</td>\n",
       "      <td>-7.94</td>\n",
       "    </tr>\n",
       "    <tr>\n",
       "      <th>2444</th>\n",
       "      <td>미래에셋G2이노베이터증권자투자신탁(주식)종류C-P</td>\n",
       "      <td>-7.99</td>\n",
       "    </tr>\n",
       "    <tr>\n",
       "      <th>2445</th>\n",
       "      <td>미래에셋G2이노베이터증권자투자신탁(주식)종류C1</td>\n",
       "      <td>-8.08</td>\n",
       "    </tr>\n",
       "  </tbody>\n",
       "</table>\n",
       "<p>2446 rows × 2 columns</p>\n",
       "</div>"
      ],
      "text/plain": [
       "                                상품이름   3개월수익률\n",
       "0     삼성코스닥150 1.5배레버리지증권자신탁[주식파생]Ae   21.79 \n",
       "1     삼성코스닥150 1.5배레버리지증권자신탁[주식파생]Ce   21.75 \n",
       "2      삼성코스닥150 1.5배레버리지증권자신탁[주식파생]A   21.70 \n",
       "3     삼성코스닥150 1.5배레버리지증권자신탁[주식파생]C1   21.55 \n",
       "4           브레인코스닥벤처증권투자신탁(주식혼합)종류AE   18.26 \n",
       "...                              ...      ...\n",
       "2441     미래에셋G2이노베이터증권자투자신탁(주식)종류C-e   -7.89 \n",
       "2442      미래에셋G2이노베이터증권자투자신탁(주식)종류CG   -7.94 \n",
       "2443       미래에셋G2이노베이터증권자투자신탁(주식)종류A   -7.94 \n",
       "2444     미래에셋G2이노베이터증권자투자신탁(주식)종류C-P   -7.99 \n",
       "2445      미래에셋G2이노베이터증권자투자신탁(주식)종류C1   -8.08 \n",
       "\n",
       "[2446 rows x 2 columns]"
      ]
     },
     "execution_count": 3,
     "metadata": {},
     "output_type": "execute_result"
    }
   ],
   "source": [
    "fund_df"
   ]
  }
 ],
 "metadata": {
  "kernelspec": {
   "display_name": "Python 3 (ipykernel)",
   "language": "python",
   "name": "python3"
  },
  "language_info": {
   "codemirror_mode": {
    "name": "ipython",
    "version": 3
   },
   "file_extension": ".py",
   "mimetype": "text/x-python",
   "name": "python",
   "nbconvert_exporter": "python",
   "pygments_lexer": "ipython3",
   "version": "3.9.1"
  }
 },
 "nbformat": 4,
 "nbformat_minor": 5
}
